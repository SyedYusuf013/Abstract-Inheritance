{
 "cells": [
  {
   "cell_type": "code",
   "execution_count": 28,
   "id": "02b95bf2",
   "metadata": {},
   "outputs": [],
   "source": [
    "class test:\n",
    "    def __init__(self, a, b , c, d) :\n",
    "        self.__a=a\n",
    "        self.b=b\n",
    "        self.c=c\n",
    "        self.d=d\n",
    "    def test_custome(self , v ):\n",
    "        return v- self.__a\n",
    "    \n",
    "    def __str__(self):\n",
    "        return \"this is my test code for abstraction\""
   ]
  },
  {
   "cell_type": "code",
   "execution_count": 29,
   "id": "a3b29687",
   "metadata": {},
   "outputs": [],
   "source": [
    "o = test(4,5,6,7)"
   ]
  },
  {
   "cell_type": "code",
   "execution_count": 30,
   "id": "dd5c0440",
   "metadata": {},
   "outputs": [
    {
     "data": {
      "text/plain": [
       "3"
      ]
     },
     "execution_count": 30,
     "metadata": {},
     "output_type": "execute_result"
    }
   ],
   "source": [
    "o.test_custome(7)"
   ]
  },
  {
   "cell_type": "code",
   "execution_count": 31,
   "id": "e14d1240",
   "metadata": {},
   "outputs": [
    {
     "name": "stdout",
     "output_type": "stream",
     "text": [
      "this is my test code for abstraction\n"
     ]
    }
   ],
   "source": [
    "print(o)"
   ]
  },
  {
   "cell_type": "code",
   "execution_count": 32,
   "id": "c00f9957",
   "metadata": {},
   "outputs": [
    {
     "data": {
      "text/plain": [
       "4"
      ]
     },
     "execution_count": 32,
     "metadata": {},
     "output_type": "execute_result"
    }
   ],
   "source": [
    " o._test__a"
   ]
  },
  {
   "cell_type": "code",
   "execution_count": 33,
   "id": "0897f0ed",
   "metadata": {},
   "outputs": [],
   "source": [
    " #######inheritance\n",
    "    \n",
    "    \n",
    "    \n",
    "    \n",
    "    \n",
    "    \n",
    "    "
   ]
  },
  {
   "cell_type": "code",
   "execution_count": 39,
   "id": "b0a9e9b4",
   "metadata": {},
   "outputs": [
    {
     "data": {
      "text/plain": [
       "6"
      ]
     },
     "execution_count": 39,
     "metadata": {},
     "output_type": "execute_result"
    }
   ],
   "source": [
    "class test1(test):\n",
    "    def __init__(self , j , *args):\n",
    "        super(test1,self).__init__(*args)\n",
    "        self.j = j\n",
    "        \n",
    "m = test1(4,5,6,7,8)\n",
    "m.b\n",
    "#supewr is the [parent] class \n",
    "#test1 is child class \n",
    "#test is the parent class\n",
    "#*args = any argument"
   ]
  },
  {
   "cell_type": "code",
   "execution_count": 35,
   "id": "ce1641d2",
   "metadata": {},
   "outputs": [
    {
     "data": {
      "text/plain": [
       "4"
      ]
     },
     "execution_count": 35,
     "metadata": {},
     "output_type": "execute_result"
    }
   ],
   "source": [
    "m.j"
   ]
  },
  {
   "cell_type": "code",
   "execution_count": 36,
   "id": "9ab316dd",
   "metadata": {},
   "outputs": [
    {
     "data": {
      "text/plain": [
       "3"
      ]
     },
     "execution_count": 36,
     "metadata": {},
     "output_type": "execute_result"
    }
   ],
   "source": [
    "m.test_custome(8)"
   ]
  },
  {
   "cell_type": "code",
   "execution_count": 41,
   "id": "9e70ee2a",
   "metadata": {},
   "outputs": [
    {
     "data": {
      "text/plain": [
       "6"
      ]
     },
     "execution_count": 41,
     "metadata": {},
     "output_type": "execute_result"
    }
   ],
   "source": [
    " m.b"
   ]
  },
  {
   "cell_type": "markdown",
   "id": "c1051137",
   "metadata": {},
   "source": []
  },
  {
   "cell_type": "code",
   "execution_count": 42,
   "id": "df0c2215",
   "metadata": {},
   "outputs": [
    {
     "data": {
      "text/plain": [
       "7"
      ]
     },
     "execution_count": 42,
     "metadata": {},
     "output_type": "execute_result"
    }
   ],
   "source": [
    "m.c"
   ]
  },
  {
   "cell_type": "code",
   "execution_count": 43,
   "id": "a68232a1",
   "metadata": {},
   "outputs": [
    {
     "data": {
      "text/plain": [
       "8"
      ]
     },
     "execution_count": 43,
     "metadata": {},
     "output_type": "execute_result"
    }
   ],
   "source": [
    "m.d"
   ]
  },
  {
   "cell_type": "code",
   "execution_count": 44,
   "id": "a06d80f7",
   "metadata": {},
   "outputs": [
    {
     "ename": "AttributeError",
     "evalue": "'test1' object has no attribute 'v'",
     "output_type": "error",
     "traceback": [
      "\u001b[1;31m---------------------------------------------------------------------------\u001b[0m",
      "\u001b[1;31mAttributeError\u001b[0m                            Traceback (most recent call last)",
      "\u001b[1;32m~\\AppData\\Local\\Temp/ipykernel_3200/1861844015.py\u001b[0m in \u001b[0;36m<module>\u001b[1;34m\u001b[0m\n\u001b[1;32m----> 1\u001b[1;33m \u001b[0mm\u001b[0m\u001b[1;33m.\u001b[0m\u001b[0mv\u001b[0m\u001b[1;33m\u001b[0m\u001b[1;33m\u001b[0m\u001b[0m\n\u001b[0m",
      "\u001b[1;31mAttributeError\u001b[0m: 'test1' object has no attribute 'v'"
     ]
    }
   ],
   "source": [
    "m.v"
   ]
  },
  {
   "cell_type": "code",
   "execution_count": 45,
   "id": "1f0b09ce",
   "metadata": {},
   "outputs": [
    {
     "ename": "AttributeError",
     "evalue": "'test1' object has no attribute 'e'",
     "output_type": "error",
     "traceback": [
      "\u001b[1;31m---------------------------------------------------------------------------\u001b[0m",
      "\u001b[1;31mAttributeError\u001b[0m                            Traceback (most recent call last)",
      "\u001b[1;32m~\\AppData\\Local\\Temp/ipykernel_3200/2182821344.py\u001b[0m in \u001b[0;36m<module>\u001b[1;34m\u001b[0m\n\u001b[1;32m----> 1\u001b[1;33m \u001b[0mm\u001b[0m\u001b[1;33m.\u001b[0m\u001b[0me\u001b[0m\u001b[1;33m\u001b[0m\u001b[1;33m\u001b[0m\u001b[0m\n\u001b[0m",
      "\u001b[1;31mAttributeError\u001b[0m: 'test1' object has no attribute 'e'"
     ]
    }
   ],
   "source": [
    "m.e"
   ]
  },
  {
   "cell_type": "code",
   "execution_count": 46,
   "id": "501d7274",
   "metadata": {},
   "outputs": [
    {
     "data": {
      "text/plain": [
       "'l.create class test and test1\\n2. inherit test and testl into test2\\n3. function a in test\\n4. function a in test1\\n5.test2 should inherit function-a from test1 and test both'"
      ]
     },
     "execution_count": 46,
     "metadata": {},
     "output_type": "execute_result"
    }
   ],
   "source": [
    "\"\"\"l.create class test and test1\n",
    "2. inherit test and testl into test2\n",
    "3. function a in test\n",
    "4. function a in test1\n",
    "5.test2 should inherit function-a from test1 and test both\"\"\""
   ]
  },
  {
   "cell_type": "code",
   "execution_count": null,
   "id": "ccbde069",
   "metadata": {},
   "outputs": [],
   "source": [
    "class test:\n",
    "    \n",
    "    def __init__(self, a):\n",
    "        self.a=a\n",
    "        \n",
    "    def __str__(self):\n",
    "        return \"this is test class\"\n",
    "p=test(5)\n",
    "\n",
    "class test1:\n",
    "    \n",
    "    def __init__(self,a):\n",
    "        self.a=a\n",
    "        \n",
    "    def __str__(self):\n",
    "        return \"this is test1 class\"\n",
    "    \n",
    "t=test1(6)\n",
    "    \n",
    "class test2(test,test1):\n",
    "    \n",
    "    def __init__(self, b, *args):\n",
    "        super(test2,self).__init__(*args)\n",
    "        self.b=b\n",
    "        \n",
    "k=test2(7)\n",
    "t.a\n",
    "        "
   ]
  },
  {
   "cell_type": "code",
   "execution_count": 47,
   "id": "1c892356",
   "metadata": {},
   "outputs": [],
   "source": [
    "class test:\n",
    "    \n",
    "    def __init__(self, a):\n",
    "        self.a=a\n",
    "        \n",
    "    def __str__(self):\n",
    "        return \"this is test class\"\n",
    "p=test(5)\n"
   ]
  },
  {
   "cell_type": "code",
   "execution_count": 48,
   "id": "33b2a115",
   "metadata": {},
   "outputs": [
    {
     "data": {
      "text/plain": [
       "5"
      ]
     },
     "execution_count": 48,
     "metadata": {},
     "output_type": "execute_result"
    }
   ],
   "source": [
    "p.a"
   ]
  },
  {
   "cell_type": "code",
   "execution_count": 50,
   "id": "065d1be3",
   "metadata": {},
   "outputs": [],
   "source": [
    "class test1:\n",
    "    \n",
    "    def __init__(self,a):\n",
    "        self.a=a\n",
    "        \n",
    "    def __str__(self):\n",
    "        return \"this is test1 class\"\n",
    "    \n",
    "t=test1(6)\n",
    "    "
   ]
  },
  {
   "cell_type": "code",
   "execution_count": 51,
   "id": "e13dc4f0",
   "metadata": {},
   "outputs": [
    {
     "data": {
      "text/plain": [
       "6"
      ]
     },
     "execution_count": 51,
     "metadata": {},
     "output_type": "execute_result"
    }
   ],
   "source": [
    "t.a"
   ]
  },
  {
   "cell_type": "code",
   "execution_count": 53,
   "id": "97ae7059",
   "metadata": {},
   "outputs": [
    {
     "ename": "TypeError",
     "evalue": "__init__() missing 1 required positional argument: 'a'",
     "output_type": "error",
     "traceback": [
      "\u001b[1;31m---------------------------------------------------------------------------\u001b[0m",
      "\u001b[1;31mTypeError\u001b[0m                                 Traceback (most recent call last)",
      "\u001b[1;32m~\\AppData\\Local\\Temp/ipykernel_3200/1461544931.py\u001b[0m in \u001b[0;36m<module>\u001b[1;34m\u001b[0m\n\u001b[0;32m      5\u001b[0m         \u001b[0mself\u001b[0m\u001b[1;33m.\u001b[0m\u001b[0mb\u001b[0m \u001b[1;33m=\u001b[0m \u001b[0mb\u001b[0m\u001b[1;33m\u001b[0m\u001b[1;33m\u001b[0m\u001b[0m\n\u001b[0;32m      6\u001b[0m \u001b[1;33m\u001b[0m\u001b[0m\n\u001b[1;32m----> 7\u001b[1;33m \u001b[0mk\u001b[0m\u001b[1;33m=\u001b[0m\u001b[0mtest2\u001b[0m\u001b[1;33m(\u001b[0m\u001b[1;36m7\u001b[0m\u001b[1;33m)\u001b[0m\u001b[1;33m\u001b[0m\u001b[1;33m\u001b[0m\u001b[0m\n\u001b[0m\u001b[0;32m      8\u001b[0m \u001b[0mt\u001b[0m\u001b[1;33m.\u001b[0m\u001b[0ma\u001b[0m\u001b[1;33m\u001b[0m\u001b[1;33m\u001b[0m\u001b[0m\n\u001b[0;32m      9\u001b[0m \u001b[1;33m\u001b[0m\u001b[0m\n",
      "\u001b[1;32m~\\AppData\\Local\\Temp/ipykernel_3200/1461544931.py\u001b[0m in \u001b[0;36m__init__\u001b[1;34m(self, b, *args)\u001b[0m\n\u001b[0;32m      2\u001b[0m \u001b[1;33m\u001b[0m\u001b[0m\n\u001b[0;32m      3\u001b[0m     \u001b[1;32mdef\u001b[0m \u001b[0m__init__\u001b[0m\u001b[1;33m(\u001b[0m\u001b[0mself\u001b[0m\u001b[1;33m,\u001b[0m \u001b[0mb\u001b[0m\u001b[1;33m,\u001b[0m \u001b[1;33m*\u001b[0m\u001b[0margs\u001b[0m\u001b[1;33m)\u001b[0m\u001b[1;33m:\u001b[0m\u001b[1;33m\u001b[0m\u001b[1;33m\u001b[0m\u001b[0m\n\u001b[1;32m----> 4\u001b[1;33m         \u001b[0msuper\u001b[0m\u001b[1;33m(\u001b[0m\u001b[0mtest2\u001b[0m\u001b[1;33m,\u001b[0m\u001b[0mself\u001b[0m\u001b[1;33m)\u001b[0m\u001b[1;33m.\u001b[0m\u001b[0m__init__\u001b[0m\u001b[1;33m(\u001b[0m\u001b[1;33m*\u001b[0m\u001b[0margs\u001b[0m\u001b[1;33m)\u001b[0m\u001b[1;33m\u001b[0m\u001b[1;33m\u001b[0m\u001b[0m\n\u001b[0m\u001b[0;32m      5\u001b[0m         \u001b[0mself\u001b[0m\u001b[1;33m.\u001b[0m\u001b[0mb\u001b[0m \u001b[1;33m=\u001b[0m \u001b[0mb\u001b[0m\u001b[1;33m\u001b[0m\u001b[1;33m\u001b[0m\u001b[0m\n\u001b[0;32m      6\u001b[0m \u001b[1;33m\u001b[0m\u001b[0m\n",
      "\u001b[1;31mTypeError\u001b[0m: __init__() missing 1 required positional argument: 'a'"
     ]
    }
   ],
   "source": [
    "class test2(test,test1):\n",
    "    \n",
    "    def __init__(self, b, *args):\n",
    "        super(test2,self).__init__(*args)\n",
    "        self.b = b\n",
    "        \n",
    "k=test2(7)\n",
    "t.a\n",
    "\n",
    "\n"
   ]
  },
  {
   "cell_type": "code",
   "execution_count": 55,
   "id": "e00751e1",
   "metadata": {},
   "outputs": [
    {
     "name": "stdout",
     "output_type": "stream",
     "text": [
      "this is test class\n",
      "this is test1 class\n",
      "this is test2 class\n",
      "this is test class\n"
     ]
    }
   ],
   "source": [
    "class test:\n",
    "    def a(self):\n",
    "        print(\"this is test class\")\n",
    "        \n",
    "class test1:\n",
    "    def a(self):\n",
    "        print(\"this is test1 class\")\n",
    "        \n",
    "class test2(test,test1):\n",
    "    \n",
    "    t=test()\n",
    "    t.a()\n",
    "    t1=test1()\n",
    "    t1.a()\n",
    "    print(\"this is test2 class\")\n",
    "    \n",
    "t2=test2()\n",
    "t2.a()"
   ]
  },
  {
   "cell_type": "code",
   "execution_count": 1,
   "id": "cb567d77",
   "metadata": {},
   "outputs": [
    {
     "name": "stdout",
     "output_type": "stream",
     "text": [
      "function a from class test\n",
      "function a from class testl\n"
     ]
    }
   ],
   "source": [
    "class test:\n",
    "    \n",
    "    def a(self):\n",
    "        print( 'function a from class test')\n",
    "        \n",
    "class test1:\n",
    "    def a(self):\n",
    "        print( 'function a from class testl' )\n",
    "class test2():\n",
    "    \n",
    "    def a(self):\n",
    "        test.a(self)\n",
    "        test1.a(self)\n",
    "t = test2()\n",
    "t.a()"
   ]
  },
  {
   "cell_type": "code",
   "execution_count": 2,
   "id": "efba698d",
   "metadata": {},
   "outputs": [
    {
     "name": "stdout",
     "output_type": "stream",
     "text": [
      "iNeuron Company was established in 2018\n"
     ]
    }
   ],
   "source": [
    "class Ineuron:\n",
    "    company_website = ' https://ineuron.ai/'\n",
    "    name = 'iNeuron'\n",
    "    \n",
    "    def contact_details(self):\n",
    "        print( 'Contact us at ',self.company_website)\n",
    "        \n",
    "        \n",
    "class Datascience(Ineuron):\n",
    "    def __init__(self):\n",
    "        self.year_of_establishment= 2018\n",
    "        \n",
    "    def est_details(self):\n",
    "        print('{0} Company was established in {1}'\n",
    "            .format(self.name,self.year_of_establishment))\n",
    "        \n",
    "        \n",
    "ds = Datascience()\n",
    "ds.est_details()"
   ]
  },
  {
   "cell_type": "code",
   "execution_count": 7,
   "id": "98173fbf",
   "metadata": {},
   "outputs": [
    {
     "name": "stdout",
     "output_type": "stream",
     "text": [
      "multi_task\n",
      "Name: iNeuron \n"
     ]
    }
   ],
   "source": [
    "class OS:\n",
    "    multi_task = True\n",
    "    os_name='Windows OS'\n",
    "class windows(OS, Ineuron):\n",
    "    def __init__(self):\n",
    "        if self.multi_task is True:\n",
    "            print( 'multi_task' )\n",
    "        print( 'Name: {} '.format(self.name))\n",
    "windows = windows()"
   ]
  },
  {
   "cell_type": "code",
   "execution_count": 8,
   "id": "10cab1a6",
   "metadata": {},
   "outputs": [
    {
     "name": "stdout",
     "output_type": "stream",
     "text": [
      "multi_task\n",
      "Name: syed \n"
     ]
    }
   ],
   "source": [
    "class OS:\n",
    "    multi_task = True\n",
    "    os_name='Windows OS'\n",
    "    name = \"syed\"\n",
    "class windows(OS, Ineuron):\n",
    "    def __init__(self):\n",
    "        if self.multi_task is True:\n",
    "            print( 'multi_task' )\n",
    "        print( 'Name: {} '.format(self.name))\n",
    "windows = windows()"
   ]
  },
  {
   "cell_type": "code",
   "execution_count": 9,
   "id": "c749701e",
   "metadata": {},
   "outputs": [
    {
     "name": "stdout",
     "output_type": "stream",
     "text": [
      "multi_task\n",
      "Name: iNeuron \n"
     ]
    }
   ],
   "source": [
    "class windows(Ineuron, OS):\n",
    "    def __init__(self):\n",
    "        if self.multi_task is True:\n",
    "            print( 'multi_task' )\n",
    "        print( 'Name: {} '.format(self.name))\n",
    "windows = windows()"
   ]
  },
  {
   "cell_type": "code",
   "execution_count": null,
   "id": "4a3a8517",
   "metadata": {},
   "outputs": [],
   "source": [
    "euron :\n",
    "c ass\n",
    "num Of courses = 12\n",
    "class Datascience(iNeuron):\n",
    "course _ type 'Data -Science'\n",
    "class A1(Datascience):\n",
    "def\n",
    "self. company = \" iNeuron\"\n",
    "print( 'The company {O) offe\n",
    "A1 ="
   ]
  },
  {
   "cell_type": "code",
   "execution_count": 11,
   "id": "7c2c917b",
   "metadata": {},
   "outputs": [
    {
     "name": "stdout",
     "output_type": "stream",
     "text": [
      "The company iNeuron offers total 12 different types ofcourses. Most trending course is Data-Science\n"
     ]
    }
   ],
   "source": [
    "class iNeuron:\n",
    "    num_of_courses = 12\n",
    "    \n",
    "    \n",
    "class Datascience(iNeuron):\n",
    "    course_type = 'Data-Science'\n",
    "    \n",
    "    \n",
    "class AI(Datascience):\n",
    "    def __init__(self):\n",
    "        self.company = \"iNeuron\"\n",
    "        print( 'The company {0} offers total {1} different types ofcourses. Most trending course is {2}'.format(self.company,self.num_of_courses,self.course_type))\n",
    "\n",
    "        \n",
    "AI = AI()"
   ]
  },
  {
   "cell_type": "code",
   "execution_count": 12,
   "id": "62e0e5a8",
   "metadata": {},
   "outputs": [],
   "source": [
    "#encapthiulation"
   ]
  },
  {
   "cell_type": "code",
   "execution_count": 20,
   "id": "79a7430d",
   "metadata": {},
   "outputs": [],
   "source": [
    "class test:\n",
    "    def __init__(self, a, b, c):\n",
    "        self.a=a\n",
    "        self.b=b\n",
    "        self.c=c\n",
    "        \n",
    "    def __str__(self):\n",
    "        return \"this is the return from my test class   \"\n",
    "    \n",
    "    \n",
    "class test1:\n",
    "    def __init__(self, a, b, c):\n",
    "        self.a=a\n",
    "        self.b=b\n",
    "        self.c=c\n",
    "        \n",
    "        \n",
    "    def __str__(self):\n",
    "        return \"this is the return from my test1 class   \"\n",
    "\n",
    "    \n",
    "class test2:\n",
    "    def __init__(self, a, b, c):\n",
    "        self.a=a\n",
    "        self.b=b\n",
    "        self.c=c\n",
    "        \n",
    "        \n",
    "    def __str__(self):\n",
    "        return \"this is the return from my test2 class   \"\n",
    "    \n",
    "    \n",
    "class final:\n",
    "    def __init__(self, x,y,z):\n",
    "        self.x=x\n",
    "        self.y=y\n",
    "        self.z=z\n",
    "        \n",
    "    def __str__(self):\n",
    "        \n",
    "        return  str(self.x) + \"  \" + str(self.y) + \"  \" + str(self.z)\n",
    "        "
   ]
  },
  {
   "cell_type": "code",
   "execution_count": 21,
   "id": "419abcff",
   "metadata": {},
   "outputs": [],
   "source": [
    "t=test(4,5,6)\n",
    "t1=test1(3,4,5)\n",
    "t2=test2(5,6,7)\n",
    "f=final(t,t1,t2)"
   ]
  },
  {
   "cell_type": "code",
   "execution_count": 22,
   "id": "ac542817",
   "metadata": {},
   "outputs": [
    {
     "name": "stdout",
     "output_type": "stream",
     "text": [
      "this is the return from my test class     this is the return from my test1 class     this is the return from my test2 class   \n"
     ]
    }
   ],
   "source": [
    "print(f)"
   ]
  },
  {
   "cell_type": "code",
   "execution_count": 26,
   "id": "f6be72df",
   "metadata": {},
   "outputs": [],
   "source": [
    "t=test(4,5,6)\n",
    "t1=test1(3,4,5)\n",
    "t2=test2(5,6,7)\n",
    "f=final(t,t1,\"syed\")"
   ]
  },
  {
   "cell_type": "code",
   "execution_count": 27,
   "id": "7241895a",
   "metadata": {},
   "outputs": [
    {
     "name": "stdout",
     "output_type": "stream",
     "text": [
      "this is the return from my test class     this is the return from my test1 class     syed\n"
     ]
    }
   ],
   "source": [
    "print(f)"
   ]
  },
  {
   "cell_type": "code",
   "execution_count": null,
   "id": "34b5a189",
   "metadata": {},
   "outputs": [],
   "source": []
  },
  {
   "cell_type": "code",
   "execution_count": null,
   "id": "7f5daf20",
   "metadata": {},
   "outputs": [],
   "source": [
    "# inside encaptulation again there is 2 kind of concept that exist\n",
    "# 1.composition\n",
    "# 2.dynamic extension"
   ]
  }
 ],
 "metadata": {
  "kernelspec": {
   "display_name": "Python 3 (ipykernel)",
   "language": "python",
   "name": "python3"
  },
  "language_info": {
   "codemirror_mode": {
    "name": "ipython",
    "version": 3
   },
   "file_extension": ".py",
   "mimetype": "text/x-python",
   "name": "python",
   "nbconvert_exporter": "python",
   "pygments_lexer": "ipython3",
   "version": "3.9.7"
  }
 },
 "nbformat": 4,
 "nbformat_minor": 5
}
